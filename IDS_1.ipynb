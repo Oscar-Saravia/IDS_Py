{
 "cells": [
  {
   "cell_type": "markdown",
   "metadata": {},
   "source": [
    "# IDS con aprendizaje automatico "
   ]
  },
  {
   "cell_type": "code",
   "execution_count": 26,
   "metadata": {},
   "outputs": [],
   "source": [
    "import numpy as np #crear vectores y matrices grandes multidimensionales\n",
    "import pandas as pd # fusionar y unir datos, leer archivos csv\n",
    "#metaestimador que se ajusta a varios clasificadores de árboles de decisión en varias submuestras del conjunto de datos\n",
    "from sklearn.ensemble import RandomForestClassifier \n",
    "from sklearn.linear_model import LogisticRegression\n",
    "#Modelo para Regresion Logistica\n",
    "from sklearn import linear_model\n",
    "# implementa funciones que evalúan el error de predicción para propósitos específicos\n",
    "from sklearn.metrics import (precision_score, recall_score, f1_score, accuracy_score)\n",
    "from sklearn.naive_bayes import GaussianNB\n",
    "from sklearn.neighbors import KNeighborsClassifier\n",
    "from sklearn.preprocessing import Normalizer\n",
    "from sklearn.tree import DecisionTreeClassifier"
   ]
  },
  {
   "cell_type": "code",
   "execution_count": 27,
   "metadata": {},
   "outputs": [],
   "source": [
    "traindata = pd.read_csv('kddtrain.csv')\n",
    "testdata = pd.read_csv('kddtest.csv')"
   ]
  },
  {
   "cell_type": "code",
   "execution_count": 28,
   "metadata": {},
   "outputs": [],
   "source": [
    "#Indexamos la ubicacion de los nuemeros enteros para seleccionar su posicion\n",
    "X = traindata.iloc[:,1:42]\n",
    "Y = traindata.iloc[:,0]\n",
    "C = testdata.iloc[:,0]\n",
    "T = testdata.iloc[:,1:42]"
   ]
  },
  {
   "cell_type": "code",
   "execution_count": 29,
   "metadata": {},
   "outputs": [],
   "source": [
    "scaler = Normalizer().fit(X) #normalizamos hasta escalar datos con 1 y 0; lo entrenamos\n",
    "trainX = scaler.transform(X) #transformamos los valores con X \n",
    "\n",
    "scaler = Normalizer().fit(T)\n",
    "testT = scaler.transform(T)"
   ]
  },
  {
   "cell_type": "code",
   "execution_count": 30,
   "metadata": {},
   "outputs": [],
   "source": [
    "traindata = np.array(trainX)\n",
    "trainlabel = np.array(Y)\n",
    "\n",
    "testdata = np.array(testT)\n",
    "testlabel = np.array(C)"
   ]
  },
  {
   "cell_type": "markdown",
   "metadata": {},
   "source": [
    "# Regresion Linear\n",
    "La regresión lineal es un algoritmo de aprendizaje supervisado que se utiliza en Machine Learning y en estadística. En su versión más sencilla, lo que haremos es “dibujar una recta” que nos indicará la tendencia de un conjunto de datos continuos (si fueran discretos, utilizaríamos Regresión Logística).\n",
    "\n",
    "En estadísticas, regresión lineal es una aproximación para modelar la relación entre una variable escalar dependiente “y” y una o mas variables explicativas nombradas con “X”.\n",
    "\n",
    "Recordemos rápidamente la fórmula de la recta:\n",
    "\n",
    "Y = mX + b\n",
    "\n",
    "Donde Y es el resultado, X es la variable, m la pendiente (o coeficiente) de la recta y b la constante o también conocida como el “punto de corte con el eje Y” en la gráfica (cuando X=0)"
   ]
  },
  {
   "cell_type": "markdown",
   "metadata": {},
   "source": [
    "# Regresion Logistica\n",
    "Es un metodo estadisticos para predecir clases binarias, el resultado es de naturaleza dicotomica que significa que solo hay dos clases posibles o calcular cuando ocurrira un evento.\n",
    "Se puede usar como linea de base para cualquier problema de clasificacion binaria, describe y estima la relacion entre una variable dependiente e independiente.\n",
    "\n",
    "Esta categorizada como  algoritmo de clasificacion:\n",
    "\tBinaria : solo tiene dos resultados\n",
    "\tMultivariable : tiene 3 o mas categorias nominales(sin orden)\n",
    "\tOrdinal: tiene 3 o mas categorias ordinales(tienen un orden en las categorias)\n",
    "\n",
    "En un plano \"X\", \"Y\" la pendiente y el crecimiento siempre tiende a 1\n",
    "donde Y tiende 1; X = empieza desde 0\n",
    "\n",
    "\tsi la probabilidad es MAYOR a 0.5 es un SI probable\n",
    "\tsi la probabilidad es MENOR a 0.5 es un NO probable\n",
    "\n",
    "## Relacion con la de regresion Lineal:\n",
    "ecuacion de regresion linear:\ty= m.Xi + b\n",
    "donde : y=a1.x1 + a2.x2 + ... + an.xn + b\n",
    "\n",
    "entonces para la Regresion logistica:\n",
    "p = 1 / 1 + e^(a1.x1 + a2.x2 + ... + an.xn + b)\n",
    "\n",
    "Preguntas de relacion:\n",
    "Regresion linear: \n",
    "    ¿Que porcentaje de lluvia se dara hoy?\n",
    "Regresion logica: \n",
    "    ¿hoy llovera?"
   ]
  },
  {
   "cell_type": "markdown",
   "metadata": {},
   "source": [
    "## Diferencia entre Regresion Linear y Logistica:\n",
    "Linea:\n",
    "\tproporciona una salida continua\n",
    "\tconocer el porcentaje de probabilidad de lluvia\n",
    "\t\n",
    "Logistica:\n",
    "\tproporciona una salida discreta\n",
    "\tConocer si va a llover o no"
   ]
  },
  {
   "cell_type": "code",
   "execution_count": 35,
   "metadata": {},
   "outputs": [
    {
     "name": "stdout",
     "output_type": "stream",
     "text": [
      "Probabilidad: \n",
      " [[9.99778569e-01 2.21431410e-04]\n",
      " [9.99778569e-01 2.21431410e-04]\n",
      " [9.99768250e-01 2.31749639e-04]\n",
      " ...\n",
      " [9.99770998e-01 2.29001796e-04]\n",
      " [9.99749066e-01 2.50934274e-04]\n",
      " [9.99770998e-01 2.29001796e-04]]\n",
      "Regresion Logistica\n",
      "Exactitud:  0.8462196329590905\n",
      "Precision:  0.9884944401045433\n",
      "Recuperacion:  0.8185404654282931\n",
      "Puntuacion F1:  0.8955252569820931\n"
     ]
    }
   ],
   "source": [
    "#Modelo para Regresion Logistica\n",
    "model = LogisticRegression()\n",
    "model.fit(traindata, trainlabel)\n",
    "\n",
    "# hacer la prediccion\n",
    "expected = testlabel\n",
    "predicted = model.predict(testdata) #la prediccion nos dara 0 o 1 como salida\n",
    "proba = model.predict_proba(testdata) #predecimos las probabilidades que sean 1\n",
    "print(\"Probabilidad: \\n\",proba)\n",
    "\n",
    "y_train1 = expected\n",
    "y_pred = predicted\n",
    "\n",
    "#calcula la exactitud del conjunto\n",
    "exactitud = accuracy_score(y_train1, y_pred) \n",
    "#calcula la recuperacion de valores verdaderos positivos y falsos negativos\n",
    "recuperacion = recall_score(y_train1, y_pred , average=\"binary\") \n",
    "#relacion de verdaderos positivos y falsos positivos\n",
    "precision = precision_score(y_train1, y_pred , average=\"binary\") \n",
    "#promedio ponderado de la precision y recuperacion, donde 1 es la mejor puntuacion y 0 la peor\n",
    "f1 = f1_score(y_train1, y_pred, average=\"binary\") \n",
    "\n",
    "print(\"Regresion Logistica\")\n",
    "print(\"Exactitud: \",exactitud)\n",
    "print(\"Precision: \",precision)\n",
    "print(\"Recuperacion: \",recuperacion)\n",
    "print(\"Puntuacion F1: \",f1)"
   ]
  },
  {
   "cell_type": "markdown",
   "metadata": {},
   "source": [
    "## Clasificador Bayesiano Ingenuo\n",
    "En teoría de la probabilidad y minería de datos, un clasificador Naive Bayes es un clasificador probabilístico fundamentado en el teorema de Bayes y algunas hipótesis simplificadoras adicionales. Es a causa de estas simplificaciones, que se suelen resumir en la hipótesis de independencia entre las variables predictoras, que recibe el apelativo de naive, es decir, ingenuo.\n"
   ]
  },
  {
   "cell_type": "code",
   "execution_count": 15,
   "metadata": {},
   "outputs": [
    {
     "name": "stdout",
     "output_type": "stream",
     "text": [
      " Naive Bayes \n",
      "Exactitud:  0.9294693725323765\n",
      "Precision:  0.9883980900024366\n",
      "Recuperacion:  0.9232418661853727\n",
      "Puntuacion F1:  0.9547095876439777\n"
     ]
    }
   ],
   "source": [
    "#Modelo para Naive BAYES\n",
    "model = GaussianNB()\n",
    "model.fit(traindata, trainlabel)\n",
    "#print(model)\n",
    "\n",
    "# Prediccion\n",
    "expected = testlabel\n",
    "predicted = model.predict(testdata)\n",
    "proba = model.predict_proba(testdata)\n",
    "\n",
    "\n",
    "y_train1 = expected\n",
    "y_pred = predicted\n",
    "\n",
    "exactitud = accuracy_score(y_train1, y_pred)\n",
    "recuperacion = recall_score(y_train1, y_pred , average=\"binary\")\n",
    "precision = precision_score(y_train1, y_pred , average=\"binary\")\n",
    "f1 = f1_score(y_train1, y_pred, average=\"binary\")\n",
    "\n",
    "print(\" Naive Bayes \")\n",
    "print(\"Exactitud: \",exactitud)\n",
    "print(\"Precision: \",precision)\n",
    "print(\"Recuperacion: \",recuperacion)\n",
    "print(\"Puntuacion F1: \",f1)"
   ]
  },
  {
   "cell_type": "code",
   "execution_count": 16,
   "metadata": {},
   "outputs": [
    {
     "name": "stdout",
     "output_type": "stream",
     "text": [
      "Clasificador de árbol de decisión\n",
      "Exactitud:  0.9301638437696927\n",
      "Precision:  0.9986265233600035\n",
      "Recuperacion:  0.9145250682809181\n",
      "Puntuacion F1:  0.9547272609794885\n"
     ]
    }
   ],
   "source": [
    "#Modelo para un Clasificador de árbol de decisión\n",
    "model = DecisionTreeClassifier()\n",
    "model.fit(traindata, trainlabel)\n",
    "#print(model)\n",
    "\n",
    "# Realizamos la prediccion\n",
    "expected = testlabel\n",
    "predicted = model.predict(testdata)\n",
    "proba = model.predict_proba(testdata)\n",
    "\n",
    "\n",
    "# resumir el ajuste del modelo\n",
    "y_train1 = expected\n",
    "y_pred = predicted\n",
    "exactitud = accuracy_score(y_train1, y_pred)\n",
    "recuperacion = recall_score(y_train1, y_pred , average=\"binary\")\n",
    "precision = precision_score(y_train1, y_pred , average=\"binary\")\n",
    "f1 = f1_score(y_train1, y_pred, average=\"binary\")\n",
    "\n",
    "print(\"Clasificador de árbol de decisión\")\n",
    "print(\"Exactitud: \",exactitud)\n",
    "print(\"Precision: \",precision)\n",
    "print(\"Recuperacion: \",recuperacion)\n",
    "print(\"Puntuacion F1: \",f1)"
   ]
  },
  {
   "cell_type": "code",
   "execution_count": null,
   "metadata": {},
   "outputs": [],
   "source": []
  }
 ],
 "metadata": {
  "kernelspec": {
   "display_name": "Python 3",
   "language": "python",
   "name": "python3"
  },
  "language_info": {
   "codemirror_mode": {
    "name": "ipython",
    "version": 3
   },
   "file_extension": ".py",
   "mimetype": "text/x-python",
   "name": "python",
   "nbconvert_exporter": "python",
   "pygments_lexer": "ipython3",
   "version": "3.7.6"
  }
 },
 "nbformat": 4,
 "nbformat_minor": 2
}
