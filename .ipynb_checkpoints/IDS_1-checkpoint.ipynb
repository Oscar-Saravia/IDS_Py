{
 "cells": [
  {
   "cell_type": "markdown",
   "metadata": {},
   "source": [
    "# IDS con aprendizaje automatico "
   ]
  },
  {
   "cell_type": "code",
   "execution_count": 2,
   "metadata": {},
   "outputs": [],
   "source": [
    "import numpy as np\n",
    "import pandas as pd\n",
    "from sklearn import svm\n",
    "from sklearn.ensemble import AdaBoostClassifier\n",
    "from sklearn.ensemble import RandomForestClassifier\n",
    "from sklearn.linear_model import LogisticRegression\n",
    "from sklearn.metrics import (precision_score, recall_score, f1_score, accuracy_score)\n",
    "from sklearn.naive_bayes import GaussianNB\n",
    "from sklearn.neighbors import KNeighborsClassifier\n",
    "from sklearn.preprocessing import Normalizer\n",
    "from sklearn.tree import DecisionTreeClassifier"
   ]
  },
  {
   "cell_type": "code",
   "execution_count": 3,
   "metadata": {},
   "outputs": [],
   "source": [
    "traindata = pd.read_csv('kddtrain.csv')\n",
    "testdata = pd.read_csv('kddtest.csv')"
   ]
  },
  {
   "cell_type": "code",
   "execution_count": 4,
   "metadata": {},
   "outputs": [],
   "source": [
    "#Indexamos la ubicacion de los nuemeros enteros para seleccionar su posicion\n",
    "X = traindata.iloc[:,1:42]\n",
    "Y = traindata.iloc[:,0]\n",
    "C = testdata.iloc[:,0]\n",
    "T = testdata.iloc[:,1:42]"
   ]
  },
  {
   "cell_type": "code",
   "execution_count": 5,
   "metadata": {},
   "outputs": [],
   "source": [
    "scaler = Normalizer().fit(X) #normalizamos hasta escalar datos con 1 y 0; lo entrenamos\n",
    "trainX = scaler.transform(X) #transformamos los valores con X \n",
    "\n",
    "scaler = Normalizer().fit(T)\n",
    "testT = scaler.transform(T)"
   ]
  },
  {
   "cell_type": "code",
   "execution_count": 6,
   "metadata": {},
   "outputs": [],
   "source": [
    "traindata = np.array(trainX)\n",
    "trainlabel = np.array(Y)\n",
    "\n",
    "testdata = np.array(testT)\n",
    "testlabel = np.array(C)"
   ]
  },
  {
   "cell_type": "code",
   "execution_count": 13,
   "metadata": {},
   "outputs": [
    {
     "name": "stdout",
     "output_type": "stream",
     "text": [
      "Regresion Logistica\n",
      "Exactitud:  0.8462196329590905\n",
      "Precision:  0.9884944401045433\n",
      "Recuperacion:  0.8185404654282931\n",
      "Puntuacion F1:  0.8955252569820931\n"
     ]
    }
   ],
   "source": [
    "#Modelo para Regresion Logistica\n",
    "model = LogisticRegression()\n",
    "model.fit(traindata, trainlabel)\n",
    "\n",
    "# hacer la prediccion\n",
    "expected = testlabel\n",
    "predicted = model.predict(testdata) #la prediccion nos dara 0 o 1 como salida\n",
    "proba = model.predict_proba(testdata) #predecimos las probabilidades que sean 1\n",
    "\n",
    "y_train1 = expected\n",
    "y_pred = predicted\n",
    "\n",
    "#calcula la exactitud del conjunto\n",
    "exactitud = accuracy_score(y_train1, y_pred) \n",
    "#calcula la recuperacion de valores verdaderos positivos y falsos negativos\n",
    "recuperacion = recall_score(y_train1, y_pred , average=\"binary\") \n",
    "#relacion de verdaderos positivos y falsos positivos\n",
    "precision = precision_score(y_train1, y_pred , average=\"binary\") \n",
    "#promedio ponderado de la precision y recuperacion, donde 1 es la mejor puntuacion y 0 la peor\n",
    "f1 = f1_score(y_train1, y_pred, average=\"binary\") \n",
    "\n",
    "print(\"Regresion Logistica\")\n",
    "print(\"Exactitud: \",exactitud)\n",
    "print(\"Precision: \",precision)\n",
    "print(\"Recuperacion: \",recuperacion)\n",
    "print(\"Puntuacion F1: \",f1)"
   ]
  },
  {
   "cell_type": "code",
   "execution_count": 14,
   "metadata": {},
   "outputs": [
    {
     "name": "stdout",
     "output_type": "stream",
     "text": [
      " Naive Bayes \n",
      "Exactitud:  0.9294693725323765\n",
      "Precision:  0.9883980900024366\n",
      "Recuperacion:  0.9232418661853727\n",
      "Puntuacion F1:  0.9547095876439777\n"
     ]
    }
   ],
   "source": [
    "#Modelo para Naive BAYES\n",
    "model = GaussianNB()\n",
    "model.fit(traindata, trainlabel)\n",
    "#print(model)\n",
    "\n",
    "# Prediccion\n",
    "expected = testlabel\n",
    "predicted = model.predict(testdata)\n",
    "proba = model.predict_proba(testdata)\n",
    "\n",
    "\n",
    "y_train1 = expected\n",
    "y_pred = predicted\n",
    "\n",
    "exactitud = accuracy_score(y_train1, y_pred)\n",
    "recuperacion = recall_score(y_train1, y_pred , average=\"binary\")\n",
    "precision = precision_score(y_train1, y_pred , average=\"binary\")\n",
    "f1 = f1_score(y_train1, y_pred, average=\"binary\")\n",
    "\n",
    "print(\" Naive Bayes \")\n",
    "print(\"Exactitud: \",exactitud)\n",
    "print(\"Precision: \",precision)\n",
    "print(\"Recuperacion: \",recuperacion)\n",
    "print(\"Puntuacion F1: \",f1)"
   ]
  },
  {
   "cell_type": "code",
   "execution_count": 15,
   "metadata": {},
   "outputs": [
    {
     "name": "stdout",
     "output_type": "stream",
     "text": [
      "Clasificador de árbol de decisión\n",
      "Exactitud:  0.9302860192651465\n",
      "Precision:  0.9985658926555396\n",
      "Recuperacion:  0.9147327061604562\n",
      "Puntuacion F1:  0.9548126798750436\n"
     ]
    }
   ],
   "source": [
    "#Modelo para un Clasificador de árbol de decisión\n",
    "model = DecisionTreeClassifier()\n",
    "model.fit(traindata, trainlabel)\n",
    "#print(model)\n",
    "\n",
    "# Realizamos la prediccion\n",
    "expected = testlabel\n",
    "predicted = model.predict(testdata)\n",
    "proba = model.predict_proba(testdata)\n",
    "\n",
    "\n",
    "# resumir el ajuste del modelo\n",
    "y_train1 = expected\n",
    "y_pred = predicted\n",
    "exactitud = accuracy_score(y_train1, y_pred)\n",
    "recuperacion = recall_score(y_train1, y_pred , average=\"binary\")\n",
    "precision = precision_score(y_train1, y_pred , average=\"binary\")\n",
    "f1 = f1_score(y_train1, y_pred, average=\"binary\")\n",
    "\n",
    "print(\"Clasificador de árbol de decisión\")\n",
    "print(\"Exactitud: \",exactitud)\n",
    "print(\"Precision: \",precision)\n",
    "print(\"Recuperacion: \",recuperacion)\n",
    "print(\"Puntuacion F1: \",f1)"
   ]
  },
  {
   "cell_type": "code",
   "execution_count": null,
   "metadata": {},
   "outputs": [],
   "source": []
  }
 ],
 "metadata": {
  "kernelspec": {
   "display_name": "Python 3",
   "language": "python",
   "name": "python3"
  },
  "language_info": {
   "codemirror_mode": {
    "name": "ipython",
    "version": 3
   },
   "file_extension": ".py",
   "mimetype": "text/x-python",
   "name": "python",
   "nbconvert_exporter": "python",
   "pygments_lexer": "ipython3",
   "version": "3.7.6"
  }
 },
 "nbformat": 4,
 "nbformat_minor": 2
}
